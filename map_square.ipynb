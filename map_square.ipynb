{
 "cells": [
  {
   "cell_type": "markdown",
   "id": "38d7e7ed",
   "metadata": {},
   "source": [
    "# Write a Python program to square the elements of a list using map() function.\n",
    "\n"
   ]
  },
  {
   "cell_type": "code",
   "execution_count": 2,
   "id": "9b2ba03b",
   "metadata": {},
   "outputs": [],
   "source": [
    "Sample_List = [4, 5, 2, 9]\n",
    "\n",
    "def sqr(x):\n",
    "    return(x**2)"
   ]
  },
  {
   "cell_type": "code",
   "execution_count": 5,
   "id": "6614a564",
   "metadata": {},
   "outputs": [
    {
     "name": "stdout",
     "output_type": "stream",
     "text": [
      "square of elements of given list using map() is [16, 25, 4, 81]\n"
     ]
    }
   ],
   "source": [
    "print('square of elements of given list using map() is',list(map(sqr,Sample_List)))"
   ]
  },
  {
   "cell_type": "code",
   "execution_count": null,
   "id": "7c95b1cb",
   "metadata": {},
   "outputs": [],
   "source": []
  }
 ],
 "metadata": {
  "kernelspec": {
   "display_name": "Python 3 (ipykernel)",
   "language": "python",
   "name": "python3"
  },
  "language_info": {
   "codemirror_mode": {
    "name": "ipython",
    "version": 3
   },
   "file_extension": ".py",
   "mimetype": "text/x-python",
   "name": "python",
   "nbconvert_exporter": "python",
   "pygments_lexer": "ipython3",
   "version": "3.8.10"
  }
 },
 "nbformat": 4,
 "nbformat_minor": 5
}
